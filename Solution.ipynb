{
 "cells": [
  {
   "cell_type": "code",
   "execution_count": 1,
   "metadata": {
    "collapsed": true
   },
   "outputs": [],
   "source": [
    "from matplotlib import pyplot as plt\n",
    "\n",
    "from cost_functions import *\n",
    "from helpers import Vehicle\n",
    "from ptg import PTG\n"
   ]
  },
  {
   "cell_type": "code",
   "execution_count": 2,
   "metadata": {
    "collapsed": true
   },
   "outputs": [],
   "source": [
    "def show_trajectory(traj, vehicle=None):\n",
    "    s_coeffs, d_coeffs, t = traj\n",
    "    s = to_equation(s_coeffs)\n",
    "    d = to_equation(d_coeffs)\n",
    "    X = []\n",
    "    Y = []\n",
    "    if vehicle:\n",
    "        X2 = []\n",
    "        Y2 = []\n",
    "    t = 0\n",
    "    while t <= T:\n",
    "        X.append(s(t))\n",
    "        Y.append(d(t))\n",
    "        if vehicle:\n",
    "            s_, _, _, d_, _, _ = vehicle.state_in(t)\n",
    "            X2.append(s_)\n",
    "            Y2.append(d_)\n",
    "        t += 0.25\n",
    "    plt.scatter(X, Y, color=\"blue\")\n",
    "    if vehicle:\n",
    "        plt.scatter(X2, Y2, color=\"red\")\n",
    "    plt.show()\n"
   ]
  },
  {
   "cell_type": "code",
   "execution_count": 3,
   "metadata": {
    "collapsed": true
   },
   "outputs": [],
   "source": [
    "straight_in_left = Vehicle([\n",
    "    0, 10, 0,\n",
    "    0, 0, 0\n",
    "])\n",
    "\n",
    "traffic = {\n",
    "    0: straight_in_left,\n",
    "}\n",
    "\n",
    "start_s = [0, 5, 0]\n",
    "start_d = [4, 0, 0]\n",
    "target_vehicle = 0\n",
    "delta = [6, 0, 0, 0, 0, 0]\n",
    "T = 6\n"
   ]
  },
  {
   "cell_type": "code",
   "execution_count": 4,
   "metadata": {},
   "outputs": [
    {
     "name": "stdout",
     "output_type": "stream",
     "text": [
      "cost for time_diff_cost is \t 0.0\n",
      "cost for s_diff_cost is \t 7.105427357601002e-14\n",
      "cost for d_diff_cost is \t 2.6645352591003757e-14\n",
      "cost for efficiency_cost is \t -0.18131895555408017\n",
      "cost for max_jerk_cost is \t 0\n",
      "cost for total_jerk_cost is \t 0.5148805301538255\n",
      "cost for collision_cost is \t 2.0\n",
      "cost for buffer_cost is \t 6.197509805679964\n",
      "cost for max_accel_cost is \t 0\n",
      "cost for total_accel_cost is \t 0.8137095690559748\n"
     ]
    },
    {
     "data": {
      "image/png": "[encoded data removed]",
      "text/plain": [
       "<matplotlib.figure.Figure at 0x10b2da390>"
      ]
     },
     "metadata": {},
     "output_type": "display_data"
    }
   ],
   "source": [
    "# TODO - tweak weights to existing cost functions\n",
    "WEIGHTED_COST_FUNCTIONS = [\n",
    "    (time_diff_cost, 1),\n",
    "    (s_diff_cost, 10),\n",
    "    (d_diff_cost, 10),\n",
    "    (efficiency_cost, 2),\n",
    "    (max_jerk_cost, 2),\n",
    "    (total_jerk_cost, 1),\n",
    "    (collision_cost, 2),\n",
    "    (buffer_cost, 8),\n",
    "    (max_accel_cost, 1),\n",
    "    (total_accel_cost, 1),\n",
    "]\n",
    "\n",
    "traj = PTG(start_s, start_d, target_vehicle, delta, T, traffic, WEIGHTED_COST_FUNCTIONS)\n",
    "show_trajectory(traj, straight_in_left)\n"
   ]
  },
  {
   "cell_type": "code",
   "execution_count": 5,
   "metadata": {},
   "outputs": [
    {
     "data": {
      "text/plain": [
       "[60.0, 10, 0, 0.0, 0, 0]"
      ]
     },
     "execution_count": 5,
     "metadata": {},
     "output_type": "execute_result"
    }
   ],
   "source": [
    "straight_in_left.state_in(6)\n"
   ]
  },
  {
   "cell_type": "code",
   "execution_count": 6,
   "metadata": {},
   "outputs": [
    {
     "data": {
      "text/plain": [
       "66.0"
      ]
     },
     "execution_count": 6,
     "metadata": {},
     "output_type": "execute_result"
    }
   ],
   "source": [
    "to_equation(traj[0])(6)\n"
   ]
  },
  {
   "cell_type": "code",
   "execution_count": null,
   "metadata": {
    "collapsed": true
   },
   "outputs": [],
   "source": []
  }
 ],
 "metadata": {
  "kernelspec": {
   "display_name": "Python 3",
   "language": "python",
   "name": "python3"
  },
  "language_info": {
   "codemirror_mode": {
    "name": "ipython",
    "version": 3
   },
   "file_extension": ".py",
   "mimetype": "text/x-python",
   "name": "python",
   "nbconvert_exporter": "python",
   "pygments_lexer": "ipython3",
   "version": "3.5.2"
  },
  "widgets": {
   "state": {},
   "version": "1.1.2"
  }
 },
 "nbformat": 4,
 "nbformat_minor": 1
}
